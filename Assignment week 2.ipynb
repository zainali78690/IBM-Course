{
 "cells": [
  {
   "cell_type": "markdown",
   "id": "247a8ccb-ecbd-40f3-852c-a3c3cf3988e8",
   "metadata": {},
   "source": [
    "# My Jupyter Notebook on IBM Watson Studio"
   ]
  },
  {
   "cell_type": "markdown",
   "id": "62a30bac-0013-4760-b5d3-4f3c69d4a466",
   "metadata": {},
   "source": [
    "**Mohammed Ali Data Scientist**"
   ]
  },
  {
   "cell_type": "markdown",
   "id": "d02d0f34-f998-40bf-9bab-e3cf5d3331f1",
   "metadata": {},
   "source": [
    "*I am interested in Data Science as I believe its the future*"
   ]
  },
  {
   "cell_type": "markdown",
   "id": "5dd63b00-e09f-4a3e-a5e5-2a3ca243a2a3",
   "metadata": {},
   "source": [
    "### My code will execute 1 + 1 which will output 2"
   ]
  },
  {
   "cell_type": "code",
   "execution_count": 1,
   "id": "2c56be8e-75ff-4fa1-b96c-7676fdc0b75e",
   "metadata": {},
   "outputs": [
    {
     "data": {
      "text/plain": [
       "2"
      ]
     },
     "execution_count": 1,
     "metadata": {},
     "output_type": "execute_result"
    }
   ],
   "source": [
    "1+1"
   ]
  },
  {
   "cell_type": "markdown",
   "id": "d62845af-eb91-4997-972e-c4104e643640",
   "metadata": {},
   "source": [
    ">Blockquote Text\n",
    "\n",
    "\n",
    "| header | header |\n",
    "| ------ | ------ |\n",
    "| cell | cell |\n",
    "\n",
    "\n",
    "```python\n",
    "s = \"Hello World\"\n",
    "print s\n",
    "```\n",
    "\n",
    "\n"
   ]
  },
  {
   "cell_type": "code",
   "execution_count": null,
   "id": "4be7c9fc-6321-4df0-99c4-7e41bece7ca3",
   "metadata": {},
   "outputs": [],
   "source": []
  }
 ],
 "metadata": {
  "kernelspec": {
   "display_name": "Python",
   "language": "python",
   "name": "conda-env-python-py"
  },
  "language_info": {
   "codemirror_mode": {
    "name": "ipython",
    "version": 3
   },
   "file_extension": ".py",
   "mimetype": "text/x-python",
   "name": "python",
   "nbconvert_exporter": "python",
   "pygments_lexer": "ipython3",
   "version": "3.7.12"
  }
 },
 "nbformat": 4,
 "nbformat_minor": 5
}
