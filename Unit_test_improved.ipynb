{
  "cells": [
    {
      "cell_type": "markdown",
      "metadata": {
        "id": "view-in-github",
        "colab_type": "text"
      },
      "source": [
        "<a href=\"https://colab.research.google.com/github/zainali78690/IBM-Course/blob/main/Unit_test_improved.ipynb\" target=\"_parent\"><img src=\"https://colab.research.google.com/assets/colab-badge.svg\" alt=\"Open In Colab\"/></a>"
      ]
    },
    {
      "cell_type": "code",
      "source": [
        "import pandas as pd\n",
        "import numpy as np\n",
        "import unittest\n",
        "from unittest.mock import MagicMock, patch"
      ],
      "metadata": {
        "id": "NHMMczlKPv0p"
      },
      "execution_count": 5,
      "outputs": []
    },
    {
      "cell_type": "code",
      "source": [
        "def entity_id_search(dataframe, identifier_list, dataframe_type):\n",
        "    #Load dataframe and pre-process for merge\n",
        "    if dataframe_type == 'entity':\n",
        "        imported_data = pd.read_csv(\"entity_instrument_management/files/kb_org_table.csv\")\n",
        "        imported_data = imported_data.iloc[: , 1:]\n",
        "        imported_data = imported_data.astype(str).replace('nan',np.nan)\n",
        "        imported_data = imported_data.fillna('')\n",
        "    else:\n",
        "        imported_data = pd.read_csv(\"entity_instrument_management/files/kb_ins_table.csv\")\n",
        "        imported_data = imported_data.iloc[: , 1:]\n",
        "        imported_data = imported_data.astype(str).replace('nan',np.nan)\n",
        "        imported_data = imported_data.fillna('')\n",
        "\n",
        "    dataframe = dataframe.fillna('')\n",
        "\n",
        "    #Create empty dataframe to append rows\n",
        "    merged_df = pd.DataFrame()\n",
        "    \n",
        "    #Loop for merge\n",
        "    for identifier in identifier_list:\n",
        "        keys = [identifier]\n",
        "        search_results = imported_data.merge(dataframe[keys], on=keys)\n",
        "        merged_df = pd.concat([merged_df,search_results])\n",
        "\n",
        "    #Remove Duplicate ID entries from merge\n",
        "    drop_duplicates = merged_df.drop_duplicates(keep = 'first')\n",
        "\n",
        "    return drop_duplicates"
      ],
      "metadata": {
        "id": "rh2mvZE1QgiT"
      },
      "execution_count": 2,
      "outputs": []
    },
    {
      "cell_type": "code",
      "source": [
        "class TestEntityIdSearch(unittest.TestCase):\n",
        "    def setUp(self):\n",
        "        self.entity_df = pd.DataFrame({'id': ['1', 'bad', '3'], 'name': ['Company A', 'bad', 'Company C']})\n",
        "        self.ins_df = pd.DataFrame({'id': ['101', '102', 'bad'], 'symbol': ['AAPL', 'GOOG', 'bad']})\n",
        "\n",
        "    def test_entity_id_search_with_entity_dataframe(self):\n",
        "        identifier_list = ['id','name']\n",
        "        dataframe_type = 'entity'\n",
        "\n",
        "        # Create a mock dataframe for the csv file\n",
        "        mock_csv_data = {'uuid': ['', 'A123', 'B123', 'C123'], 'id': ['', '1', '2', '3'], 'name': ['', 'Company A', 'Company B', 'Company C']}\n",
        "        mock_csv_df = pd.DataFrame(mock_csv_data)\n",
        "\n",
        "        # Replace pd.read_csv with MagicMock that returns the mock dataframe\n",
        "        pd.read_csv = MagicMock(return_value=mock_csv_df)\n",
        "\n",
        "        expected_output = pd.DataFrame({'uuid': ['A123', 'C123'],'id': ['1', '3'], 'name': ['Company A', 'Company C']})\n",
        "\n",
        "        result = entity_id_search(self.entity_df, identifier_list, dataframe_type)\n",
        "\n",
        "        self.assertTrue(expected_output.equals(result))\n",
        "\n",
        "    def test_entity_id_search_with_instrument_dataframe(self):\n",
        "        identifier_list = ['id','name']\n",
        "        dataframe_type = 'instrument'\n",
        "\n",
        "        # Create a mock dataframe for the csv file\n",
        "        mock_csv_data = {'uuid': ['', 'D123', 'E123', 'F123'], 'id': ['','101', '102', '103'], 'symbol': ['','AAPL', 'GOOG', 'MSFT']}\n",
        "        mock_csv_df = pd.DataFrame(mock_csv_data)\n",
        "\n",
        "        # Replace pd.read_csv with MagicMock that returns the mock dataframe\n",
        "        pd.read_csv = MagicMock(return_value=mock_csv_df)\n",
        "\n",
        "        expected_output = pd.DataFrame({'uuid': ['D123', 'E123'], 'id': ['101', '102'], 'symbol': ['AAPL', 'GOOG']})\n",
        "\n",
        "        result = entity_id_search(self.ins_df, identifier_list, dataframe_type)\n",
        "\n",
        "        self.assertTrue(expected_output.equals(result))"
      ],
      "metadata": {
        "id": "kpwj1EHYPjkm"
      },
      "execution_count": 7,
      "outputs": []
    },
    {
      "cell_type": "code",
      "source": [
        "def generate_id_new(dataframe, identifier_list, dataframe_type):\n",
        "    # Create ID for matched data in new file with saved file\n",
        "    matched = entity_id_search(dataframe, identifier_list, dataframe_type)\n",
        "    \n",
        "    if dataframe_type == 'instrument':\n",
        "        identifier_tuple = tuple(identifier_list)\n",
        "    else:\n",
        "        identifier_list = identifier_list + ['bw_entity'] + ['sector']\n",
        "        identifier_tuple = tuple(identifier_list)\n",
        "\n",
        "    # if statement to assign KPMGID name\n",
        "    if dataframe_type == 'entity':\n",
        "        dataframe_id = 'kpmg_entity_id'\n",
        "    else:\n",
        "        dataframe_id = 'kpmg_instrument_id'\n",
        "\n",
        "    # IF STATEMET DEPENDING ON dataframe_str - (why needed)\n",
        "    # Make table able for merge (ensure both dfs have empty values not NAN)\n",
        "    matched_no_id = matched.fillna('')\n",
        "    matched_no_id = matched_no_id.drop([dataframe_id], axis = 1)\n",
        "\n",
        "    dataframe = dataframe.fillna('')\n",
        "\n",
        "    # Create ID for non matched data in new data for \n",
        "    df_left = dataframe.merge(matched_no_id, on = identifier_tuple, how = 'left', indicator = True)\n",
        "    df_outer = df_left[df_left['_merge'] == 'left_only']\n",
        "    df_outer = df_outer.drop('_merge', axis = 1)\n",
        "    df_outer[dataframe_id] = df_outer.apply(lambda x: generate_uuid(), axis=1)\n",
        "    df_outer = df_outer[ [dataframe_id] + [ col for col in df_outer.columns if col != dataframe_id ] ]\n",
        "\n",
        "    #Combine 2 tables for final output - ask Yang if NAN or '' needed\n",
        "    combined_df = pd.concat([matched, df_outer], ignore_index=True, sort=False)\n",
        "    combined_df = combined_df.fillna('')\n",
        "\n",
        "    #Overwrite csv\n",
        "    if dataframe_type == 'entity':\n",
        "        combined_df.to_csv(\"entity_instrument_management/files/kb_org_table.csv\",mode='w+')\n",
        "    else:\n",
        "        combined_df.to_csv(\"entity_instrument_management/files/kb_ins_table.csv\", mode = 'w+')\n",
        "\n",
        "        \n",
        "    #Rename Column to 'KPMG_uuid'\n",
        "    if dataframe_type == 'entity':\n",
        "        combined_df_rename = combined_df.rename(columns = {'kpmg_entity_id':'kpmg_uuid'})\n",
        "    else:\n",
        "        combined_df_rename = combined_df.rename(columns = {'kpmg_instrument_id':'kpmg_uuid'})\n",
        "\n",
        "\n",
        "    return combined_df_rename"
      ],
      "metadata": {
        "id": "rA6Nn00WQyGp"
      },
      "execution_count": 4,
      "outputs": []
    },
    {
      "cell_type": "code",
      "source": [
        "class TestGenerateIdNew(unittest.TestCase):\n",
        "    \n",
        "    @patch('my_module.entity_id_search')\n",
        "    def test_generate_id_new(self, mock_entity_id_search):\n",
        "        # Mock the entity_id_search function to return a dataframe with one row\n",
        "        mock_entity_id_search.return_value = pd.DataFrame({'kpmg_instrument_id': ['kpmg_id_1'],'col1': ['val1'], 'col2': ['val2']})\n",
        "        \n",
        "        # Create input dataframe for generate_id_new function\n",
        "        input_data = pd.DataFrame({'col1': ['val1', 'val3'], 'col2': ['val2', 'val4']})\n",
        "        \n",
        "        # Call the generate_id_new function\n",
        "        output = generate_id_new(input_data, ['col1','col2'], 'instrument')\n",
        "        \n",
        "        # Assert the output has the expected number of rows and columns\n",
        "        self.assertEqual(output.shape, (3, 3))\n",
        "        \n",
        "        # Assert the KPMG_uuid column has been added to the output\n",
        "        self.assertIn('kpmg_uuid', output.columns)\n",
        "        \n",
        "        # Assert the KPMG_uuid column has a unique UUID value for each row\n",
        "        self.assertEqual(output['kpmg_uuid'].nunique(), output.shape[0])\n",
        "        \n",
        "        # Assert the entity_id_search function has been called with the expected arguments\n",
        "        mock_entity_id_search.assert_called_once_with(input_data, ['col1','col2'], 'instrument')\n",
        "\n",
        "        \n"
      ],
      "metadata": {
        "id": "X3uJa-4rTeup"
      },
      "execution_count": 10,
      "outputs": []
    }
  ],
  "metadata": {
    "colab": {
      "name": "Welcome to Colaboratory",
      "toc_visible": true,
      "provenance": [],
      "include_colab_link": true
    },
    "kernelspec": {
      "display_name": "Python 3",
      "name": "python3"
    }
  },
  "nbformat": 4,
  "nbformat_minor": 0
}